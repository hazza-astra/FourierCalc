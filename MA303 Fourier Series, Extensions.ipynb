{
 "cells": [
  {
   "cell_type": "markdown",
   "metadata": {},
   "source": [
    "# Fourier Series Calculator, Extensions Addendum.\n",
    "\n",
    "## Function Definition\n",
    "\n",
    "The function definition will define all the functions needed to calculate our Fourier series. As of right now, we have functions to calculate the ${a_0}$ and ${\\alpha_n}$ and ${\\beta_n}$ of functions. Let ${L = P/2}$ where P is the period.\n",
    "\n",
    "**This calculator works differently as it is meant to handle extension series.**\n",
    "\n",
    "* The function definitions are as follows:\n",
    "\n",
    "    * ${a_0 = \\frac{2}{L}\\int_{0}^{L} f(t)  dt}$\n",
    "\n",
    "    * ${\\alpha_n = \\frac{2}{L}\\int_{0}^{L} f(t)cos(\\frac{n\\pi }{L}t)  dt}$\n",
    "\n",
    "    * ${\\beta_n = \\frac{2}{L}\\int_{0}^{L} f(t)cos(\\frac{n\\pi }{L}t)  dt}$"
   ]
  },
  {
   "cell_type": "code",
   "execution_count": 88,
   "metadata": {},
   "outputs": [],
   "source": [
    "from sympy import *\n",
    "import numpy as np\n",
    "\n",
    "import matplotlib.pyplot as plt\n",
    "\n",
    "t = symbols('t', real=True)\n",
    "n = symbols('n', real=True, integer=True)\n",
    "\n",
    "def L2_integrate(function, basis, a, b):\n",
    "    f = function * conjugate(basis)\n",
    "    integral = integrate(f, (t, a, b))\n",
    "    \n",
    "    return integral\n",
    "\n",
    "\n",
    "def azero(function, L, lB, uB):\n",
    "    f = function\n",
    "    integral = (2*L2_integrate(function, 1, lB, uB)/L).simplify()\n",
    "\n",
    "    integral = integral.simplify()\n",
    "    return integral\n",
    "\n",
    "\n",
    "def an(function, L, lB, uB):\n",
    "    f = function\n",
    "    basis = cos(n*pi*t/L)\n",
    "    integral = (2*L2_integrate(f, basis, lB, uB)/L).simplify()\n",
    "\n",
    "    integral = integral.simplify()\n",
    "    return integral\n",
    "\n",
    "\n",
    "def bn(function, L, lB, uB):\n",
    "    f = function\n",
    "    basis = sin(n*pi*t/L)\n",
    "    integral = (2*L2_integrate(f, basis, lB, uB)/L).simplify()\n",
    "\n",
    "    integral = integral.simplify()\n",
    "    return integral\n",
    "\n"
   ]
  },
  {
   "cell_type": "markdown",
   "metadata": {},
   "source": [
    "# Defining our original Fourier Series function (piecewise, continuous)\n",
    "\n",
    "### Piecewise"
   ]
  },
  {
   "cell_type": "code",
   "execution_count": 102,
   "metadata": {},
   "outputs": [
    {
     "data": {
      "text/latex": [
       "$\\displaystyle f = \\begin{cases} 5 \\sin{\\left(\\frac{t}{2} \\right)} & \\text{for}\\: t < 2 \\pi \\end{cases}$"
      ],
      "text/plain": [
       "Eq(f, Piecewise((5*sin(t/2), t < 2*pi)))"
      ]
     },
     "execution_count": 102,
     "metadata": {},
     "output_type": "execute_result"
    }
   ],
   "source": [
    "P = 4*pi\n",
    "L = P / 2\n",
    "\n",
    "f = Piecewise(\n",
    "    (5*sin(t/2), t < 2*pi),   # t is zero before time pi\n",
    "#    (3, t < 6),      # otherwise, t is 1\n",
    "#    (0, t < 9)\n",
    ")\n",
    "\n",
    "Eq(symbols('f'), f)"
   ]
  },
  {
   "cell_type": "code",
   "execution_count": 103,
   "metadata": {},
   "outputs": [
    {
     "data": {
      "image/png": "[encoded data removed]",
      "text/plain": [
       "<Figure size 432x288 with 1 Axes>"
      ]
     },
     "metadata": {
      "needs_background": "light"
     },
     "output_type": "display_data"
    },
    {
     "data": {
      "text/plain": [
       "<sympy.plotting.plot.Plot at 0x247ff9af880>"
      ]
     },
     "execution_count": 103,
     "metadata": {},
     "output_type": "execute_result"
    }
   ],
   "source": [
    "plot(f, (t, 0, 2*L))"
   ]
  },
  {
   "cell_type": "markdown",
   "metadata": {},
   "source": [
    "### Continuous"
   ]
  },
  {
   "cell_type": "code",
   "execution_count": 82,
   "metadata": {},
   "outputs": [
    {
     "data": {
      "image/png": "[encoded data removed]",
      "text/plain": [
       "<Figure size 432x288 with 1 Axes>"
      ]
     },
     "metadata": {
      "needs_background": "light"
     },
     "output_type": "display_data"
    },
    {
     "data": {
      "text/plain": [
       "<sympy.plotting.plot.Plot at 0x15858119ff0>"
      ]
     },
     "execution_count": 82,
     "metadata": {},
     "output_type": "execute_result"
    }
   ],
   "source": [
    "L = 2*pi\n",
    "f = abs(t)\n",
    "\n",
    "plot(f, (t, -L, L))"
   ]
  },
  {
   "cell_type": "markdown",
   "metadata": {},
   "source": [
    "# Using $\\{\\cos(n \\pi t/L), \\sin(n \\pi t/L\\}$ as basis\n",
    "\n",
    "We will be using both the ${cos(\\frac{n\\pi }{L}t)}$ and ${sin(\\frac{n\\pi }{L}t)}$ functions as our bases and we will integrate from them."
   ]
  },
  {
   "cell_type": "code",
   "execution_count": 104,
   "metadata": {},
   "outputs": [
    {
     "data": {
      "text/latex": [
       "$\\displaystyle a_{n} = \\begin{cases} 0 & \\text{for}\\: n = -1 \\vee n = 1 \\\\- \\frac{10 - 10 \\left(-1\\right)^{n + 1}}{\\pi \\left(n^{2} - 1\\right)} & \\text{otherwise} \\end{cases}$"
      ],
      "text/plain": [
       "Eq(a_n, Piecewise((0, Eq(n, -1) | Eq(n, 1)), (-(10 - 10*(-1)**(n + 1))/(pi*(n**2 - 1)), True)))"
      ]
     },
     "execution_count": 104,
     "metadata": {},
     "output_type": "execute_result"
    }
   ],
   "source": [
    "a_n = an(f, L, 0, L)\n",
    "\n",
    "Eq(symbols('a_n'), a_n)"
   ]
  },
  {
   "cell_type": "code",
   "execution_count": 105,
   "metadata": {},
   "outputs": [
    {
     "data": {
      "text/latex": [
       "$\\displaystyle b_{n} = \\begin{cases} -5 & \\text{for}\\: n = -1 \\\\5 & \\text{for}\\: n = 1 \\\\0 & \\text{otherwise} \\end{cases}$"
      ],
      "text/plain": [
       "Eq(b_n, Piecewise((-5, Eq(n, -1)), (5, Eq(n, 1)), (0, True)))"
      ]
     },
     "execution_count": 105,
     "metadata": {},
     "output_type": "execute_result"
    }
   ],
   "source": [
    "b_n = bn(f, L, 0, L)\n",
    "\n",
    "Eq(symbols('b_n'), b_n)"
   ]
  },
  {
   "cell_type": "code",
   "execution_count": 106,
   "metadata": {},
   "outputs": [
    {
     "data": {
      "text/latex": [
       "$\\displaystyle a_{0} = \\frac{20}{\\pi}$"
      ],
      "text/plain": [
       "Eq(a_0, 20/pi)"
      ]
     },
     "execution_count": 106,
     "metadata": {},
     "output_type": "execute_result"
    }
   ],
   "source": [
    "a_0 = azero(f, L, 0, L)\n",
    "\n",
    "Eq(symbols('a_0'), a_0)"
   ]
  },
  {
   "cell_type": "code",
   "execution_count": 108,
   "metadata": {},
   "outputs": [
    {
     "data": {
      "text/latex": [
       "$\\displaystyle 5 \\sin{\\left(\\frac{t}{2} \\right)} - \\frac{20 \\cos{\\left(t \\right)}}{3 \\pi} - \\frac{4 \\cos{\\left(2 t \\right)}}{3 \\pi} - \\frac{4 \\cos{\\left(3 t \\right)}}{7 \\pi} - \\frac{20 \\cos{\\left(4 t \\right)}}{63 \\pi} - \\frac{20 \\cos{\\left(5 t \\right)}}{99 \\pi} - \\frac{20 \\cos{\\left(6 t \\right)}}{143 \\pi} + \\frac{10}{\\pi}$"
      ],
      "text/plain": [
       "5*sin(t/2) - 20*cos(t)/(3*pi) - 4*cos(2*t)/(3*pi) - 4*cos(3*t)/(7*pi) - 20*cos(4*t)/(63*pi) - 20*cos(5*t)/(99*pi) - 20*cos(6*t)/(143*pi) + 10/pi"
      ]
     },
     "execution_count": 108,
     "metadata": {},
     "output_type": "execute_result"
    }
   ],
   "source": [
    "num = 12\n",
    "\n",
    "approx = a_0/2\n",
    "\n",
    "cosine = cos(n*pi*t/L)\n",
    "sine = sin(n*pi*t/L)\n",
    "\n",
    "for num_i in range (1, num+1):\n",
    "    approx += (a_n*cosine + b_n*sine).subs(n, num_i)\n",
    "\n",
    "approx\n"
   ]
  },
  {
   "cell_type": "markdown",
   "metadata": {},
   "source": [
    "# Final Results (Plot, Power Spectrum)\n",
    "\n",
    "## Plot"
   ]
  },
  {
   "cell_type": "code",
   "execution_count": 57,
   "metadata": {},
   "outputs": [
    {
     "data": {
      "image/png": "[encoded data removed]",
      "text/plain": [
       "<Figure size 432x288 with 1 Axes>"
      ]
     },
     "metadata": {
      "needs_background": "light"
     },
     "output_type": "display_data"
    }
   ],
   "source": [
    "fig = plot(approx, f, (t, 0, 4*P), legend=True, show=False)\n",
    "fig[0].line_color='r'\n",
    "fig[0].label = '${' + 'p_{' + str(num) + '}}$'\n",
    "fig[1].label = 'f'\n",
    "fig.show()"
   ]
  },
  {
   "cell_type": "markdown",
   "metadata": {},
   "source": [
    "## Power Spectrum\n",
    "\n",
    "* TO-DO"
   ]
  }
 ],
 "metadata": {
  "interpreter": {
   "hash": "514e61e0de02f0fb08319a2a2e75af370d6897a82add5dd350f02dd1f9134f8a"
  },
  "kernelspec": {
   "display_name": "Python 3.10.1 64-bit",
   "language": "python",
   "name": "python3"
  },
  "language_info": {
   "codemirror_mode": {
    "name": "ipython",
    "version": 3
   },
   "file_extension": ".py",
   "mimetype": "text/x-python",
   "name": "python",
   "nbconvert_exporter": "python",
   "pygments_lexer": "ipython3",
   "version": "3.10.1"
  },
  "orig_nbformat": 4
 },
 "nbformat": 4,
 "nbformat_minor": 2
}
